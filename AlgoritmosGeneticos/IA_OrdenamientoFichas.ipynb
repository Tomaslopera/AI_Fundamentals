{
 "cells": [
  {
   "cell_type": "markdown",
   "id": "41467e36",
   "metadata": {},
   "source": [
    "# Algoritmos Genéticos"
   ]
  },
  {
   "cell_type": "code",
   "execution_count": 49,
   "id": "2d580f2b",
   "metadata": {},
   "outputs": [],
   "source": [
    "import random\n",
    "import numpy as np"
   ]
  },
  {
   "cell_type": "markdown",
   "id": "dd0e3e90",
   "metadata": {},
   "source": [
    "### Fichas"
   ]
  },
  {
   "cell_type": "code",
   "execution_count": 50,
   "id": "31ef644a",
   "metadata": {},
   "outputs": [],
   "source": [
    "fichas = {\n",
    "    \"a\": 10,\n",
    "    \"b\": 3,\n",
    "    \"c\": 7,\n",
    "    \"d\": 1,\n",
    "    \"e\": 2,\n",
    "    \"f\": 8,\n",
    "    \"g\": 4,\n",
    "    \"h\": 10,\n",
    "    \"i\": 9,\n",
    "    \"j\": 3\n",
    "}"
   ]
  },
  {
   "cell_type": "markdown",
   "id": "68ca2ce7",
   "metadata": {},
   "source": [
    "## Clase Individuos\n",
    "\n",
    "- **generate_random_array:** generación de cada individuo con **a** y **j** en la primera y última posición, generándose de forma aleatoria los otros 6 valores para tener cada individuo con 8 cromosomas\n",
    "- **fitness_function:** aplicación de la **función de calidad** a cada cromosoma del individuo y se aplica la función inversa a cada uno (Se realiza una multiplicación con los adyacentes)\n",
    "- **function_adition:** suma de la función y la función inversa de cada cromosoma para obtener el total correspondiente al individuo"
   ]
  },
  {
   "cell_type": "code",
   "execution_count": 51,
   "id": "9e03a9a7",
   "metadata": {},
   "outputs": [],
   "source": [
    "class Individuos():\n",
    "    def __init__(self, fichas):\n",
    "        self.fichas = fichas\n",
    "        self.individuo = []\n",
    "        self.function = []\n",
    "        self.inverse_function = []\n",
    "        self.total_function = 0\n",
    "        self.total_inverse_function = 0\n",
    "        self.probabilidad = 0\n",
    "        self.probabilidad_inversa = 0\n",
    "        self.probabilidad_acumulada = []\n",
    "\n",
    "    def generate_random_array(self):\n",
    "        random_array = [random.randint(2, 9) for _ in range(6)]\n",
    "        self.individuo.append(fichas[list(fichas.keys())[0]])\n",
    "        for i in range(6):\n",
    "            self.individuo.append(fichas[random.choice(list(fichas.keys()))])\n",
    "        self.individuo.append(fichas[list(fichas.keys())[-1]])\n",
    "    \n",
    "    def fitness_function(self):\n",
    "        for i in range(len(self.individuo)):\n",
    "            if i == 0:\n",
    "                self.function.append(self.individuo[i] * self.individuo[i + 1])\n",
    "            elif i == len(self.individuo) - 1:\n",
    "                self.function.append(self.individuo[i] * self.individuo[i - 1])\n",
    "            else:\n",
    "                self.function.append(self.individuo[i] * self.individuo[i - 1] * self.individuo[i + 1])\n",
    "            self.inverse_function.append(1 / self.function[i])\n",
    "        \n",
    "        for value in self.function:\n",
    "            self.inverse_function.append(1 / value)\n",
    "    \n",
    "    def function_addition(self):\n",
    "        for i in range(len(self.function)):\n",
    "            self.total_function += self.function[i]\n",
    "        self.total_inverse_function = 1/self.total_function\n",
    "            "
   ]
  },
  {
   "cell_type": "markdown",
   "id": "e5bf8b6d",
   "metadata": {},
   "source": [
    "### Implementación"
   ]
  },
  {
   "cell_type": "code",
   "execution_count": 52,
   "id": "297a598f",
   "metadata": {},
   "outputs": [
    {
     "name": "stdout",
     "output_type": "stream",
     "text": [
      "Individuo: [10, 10, 9, 10, 3, 3, 1, 3]\n",
      "Fitness Function: [100, 900, 900, 270, 90, 9, 9, 3]\n",
      "Inverse Function: [0.01, 0.0011111111111111111, 0.0011111111111111111, 0.003703703703703704, 0.011111111111111112, 0.1111111111111111, 0.1111111111111111, 0.3333333333333333, 0.01, 0.0011111111111111111, 0.0011111111111111111, 0.003703703703703704, 0.011111111111111112, 0.1111111111111111, 0.1111111111111111, 0.3333333333333333]\n",
      "Total Function: 2281\n",
      "Total Inverse Function: 0.00043840420868040335\n"
     ]
    }
   ],
   "source": [
    "individuo = Individuos(fichas)\n",
    "individuo.generate_random_array()\n",
    "individuo.fitness_function()\n",
    "individuo.function_addition()\n",
    "\n",
    "print(\"Individuo:\", individuo.individuo)\n",
    "print(\"Fitness Function:\", individuo.function)\n",
    "print(\"Inverse Function:\", individuo.inverse_function)\n",
    "print(\"Total Function:\", individuo.total_function)\n",
    "print(\"Total Inverse Function:\", individuo.total_inverse_function)"
   ]
  },
  {
   "cell_type": "markdown",
   "id": "3bd94edb",
   "metadata": {},
   "source": [
    "## Creación de población y probabilidades\n",
    "\n",
    "- **creacion_poblacion:** se genera una población (array) con la cantidad de individuos que se asignen\n",
    "- **probabilidades:** se calcula la probabilidad (total) de cada individuo, utilizando (1/f)/sum(f)"
   ]
  },
  {
   "cell_type": "code",
   "execution_count": 53,
   "id": "a13cbb22",
   "metadata": {},
   "outputs": [],
   "source": [
    "def creacion_poblacion(fichas, cantidad):\n",
    "    poblacion = []\n",
    "    for _ in range(cantidad):\n",
    "        individuo = Individuos(fichas)\n",
    "        individuo.generate_random_array()\n",
    "        individuo.fitness_function()\n",
    "        individuo.function_addition()\n",
    "        poblacion.append(individuo)\n",
    "    return poblacion\n",
    "\n",
    "def probabilidades(poblacion):\n",
    "    for individuo in poblacion:\n",
    "        individuo.probabilidad = individuo.total_inverse_function / sum(ind.total_inverse_function for ind in poblacion)\n",
    "\n",
    "def probabilidades_acum(poblacion):\n",
    "    acumulada = 0\n",
    "    for individuo in poblacion:\n",
    "        acumulada += individuo.probabilidad\n",
    "        individuo.probabilidad_acumulada.append(acumulada)\n",
    "\n",
    "# def probabilidades_inversa(poblacion):\n",
    "#     for individuo in poblacion:\n",
    "#         individuo.probabilidad_inversa = individuo.total_inverse_function / sum(ind.total_inverse_function for ind in poblacion)"
   ]
  },
  {
   "cell_type": "markdown",
   "id": "48b0d965",
   "metadata": {},
   "source": [
    "### Implementación"
   ]
  },
  {
   "cell_type": "code",
   "execution_count": 54,
   "id": "5188e08f",
   "metadata": {},
   "outputs": [
    {
     "name": "stdout",
     "output_type": "stream",
     "text": [
      "Probabilidades Acumuladas:\n",
      "Individuo: [10, 4, 10, 3, 3, 4, 9, 3], Funcion: 929, Probabilidad: 0.2272175330032746, Probabilidad Acumulada: [0.2272175330032746]\n",
      "Individuo: [10, 10, 8, 10, 3, 4, 1, 3], Funcion: 2087, Probabilidad: 0.10114283093437573, Probabilidad Acumulada: [0.32836036393765033]\n",
      "Individuo: [10, 8, 8, 10, 10, 8, 3, 3], Funcion: 3281, Probabilidad: 0.06433559529413048, Probabilidad Acumulada: [0.3926959592317808]\n",
      "Individuo: [10, 4, 3, 10, 1, 10, 7, 3], Funcion: 711, Probabilidad: 0.29688479347403957, Probabilidad Acumulada: [0.6895807527058204]\n",
      "Individuo: [10, 2, 3, 3, 10, 7, 3, 3], Funcion: 680, Probabilidad: 0.3104192472941796, Probabilidad Acumulada: [1.0]\n",
      "Total Probabilidad: 1.0\n"
     ]
    }
   ],
   "source": [
    "poblacion = creacion_poblacion(fichas, 5)\n",
    "probabilidades(poblacion)\n",
    "probabilidades_acum(poblacion)\n",
    "\n",
    "print(\"Probabilidades Acumuladas:\")\n",
    "for ind in poblacion:\n",
    "    print(f\"Individuo: {ind.individuo}, Funcion: {ind.total_function}, Probabilidad: {ind.probabilidad}, Probabilidad Acumulada: {ind.probabilidad_acumulada}\")\n",
    "\n",
    "print(\"Total Probabilidad:\", sum(ind.probabilidad for ind in poblacion))"
   ]
  },
  {
   "cell_type": "markdown",
   "id": "af6a000c",
   "metadata": {},
   "source": [
    "## Selección\n",
    "\n",
    "- El individuo con mayor función de calidad obtiene mayor probabilidad de ser seleccionado en el método de la ruleta (Se utiliza 1/f debido a que en el problema se está intentando minimizar)\n",
    "- Se deben seleccionar 2 individuos para realizar mutación o cruce"
   ]
  },
  {
   "cell_type": "code",
   "execution_count": 55,
   "id": "5ac96663",
   "metadata": {},
   "outputs": [],
   "source": [
    "def wheel_selection(poblacion):\n",
    "    random_value = random.random()\n",
    "    print(\"Random Value:\", random_value)\n",
    "    for ind in poblacion:\n",
    "        if random_value <= ind.probabilidad_acumulada[-1]:\n",
    "            return ind\n",
    "    return poblacion[-1]"
   ]
  },
  {
   "cell_type": "code",
   "execution_count": 56,
   "id": "a5d30e9b",
   "metadata": {},
   "outputs": [
    {
     "name": "stdout",
     "output_type": "stream",
     "text": [
      "Random Value: 0.08175347403316469\n",
      "Random Value: 0.09582716783497602\n",
      "Selected the same individual, re-selecting...\n",
      "Random Value: 0.7191320505567657\n",
      "Random Value: 0.7504410338392824\n",
      "Selected the same individual, re-selecting...\n",
      "Random Value: 0.12813651660086522\n",
      "Random Value: 0.04633789070947836\n",
      "Selected the same individual, re-selecting...\n",
      "Random Value: 0.03567507325776187\n",
      "Random Value: 0.8584878350374844\n",
      "Final Selected Individual 1: [10, 4, 10, 3, 3, 4, 9, 3] with Probability: 0.2272175330032746\n",
      "Final Selected Individual 2: [10, 2, 3, 3, 10, 7, 3, 3] with Probability: 0.3104192472941796\n"
     ]
    }
   ],
   "source": [
    "flag = True\n",
    "while flag:\n",
    "    individuo1 = wheel_selection(poblacion)\n",
    "    individuo2 = wheel_selection(poblacion)\n",
    "    if individuo1 == individuo2:\n",
    "        print(\"Selected the same individual, re-selecting...\")\n",
    "        continue\n",
    "    else:\n",
    "        flag = False\n",
    "\n",
    "print(\"Final Selected Individual 1:\", individuo1.individuo, \"with Probability:\", individuo1.probabilidad)\n",
    "print(\"Final Selected Individual 2:\", individuo2.individuo, \"with Probability:\", individuo2.probabilidad)"
   ]
  },
  {
   "cell_type": "markdown",
   "id": "1a715b2f",
   "metadata": {},
   "source": [
    "## Cruces"
   ]
  },
  {
   "cell_type": "code",
   "execution_count": 57,
   "id": "7f09500b",
   "metadata": {},
   "outputs": [
    {
     "name": "stdout",
     "output_type": "stream",
     "text": [
      "Child 1: [10, 4, 10, 3, 10, 7, 3, 3]\n",
      "Child 2: [10, 2, 3, 3, 3, 4, 9, 3]\n"
     ]
    }
   ],
   "source": [
    "def crossover(ind1, ind2):\n",
    "    crossover_point = random.randint(1, len(ind1.individuo) - 2)\n",
    "    child1 = ind1.individuo[:crossover_point] + ind2.individuo[crossover_point:]\n",
    "    child2 = ind2.individuo[:crossover_point] + ind1.individuo[crossover_point:]\n",
    "    return child1, child2\n",
    "\n",
    "child1, child2 = crossover(individuo1, individuo2)\n",
    "print(\"Child 1:\", child1)\n",
    "print(\"Child 2:\", child2)"
   ]
  },
  {
   "cell_type": "markdown",
   "id": "a6c5ab99",
   "metadata": {},
   "source": [
    "## Mutaciones"
   ]
  },
  {
   "cell_type": "code",
   "execution_count": 58,
   "id": "a0814059",
   "metadata": {},
   "outputs": [],
   "source": [
    "def mutation(individuo, mutation_rate=0.1):\n",
    "    for i in range(len(individuo.individuo)):\n",
    "        if random.random() < mutation_rate:\n",
    "            new_value = random.choice(list(fichas.values()))\n",
    "            individuo.individuo[i] = new_value\n",
    "    individuo.fitness_function()\n",
    "    individuo.function_addition()\n",
    "    print(\"Mutated Individual:\", individuo.individuo, \"with Total Function:\", individuo.total_function)"
   ]
  }
 ],
 "metadata": {
  "kernelspec": {
   "display_name": "ai",
   "language": "python",
   "name": "python3"
  },
  "language_info": {
   "codemirror_mode": {
    "name": "ipython",
    "version": 3
   },
   "file_extension": ".py",
   "mimetype": "text/x-python",
   "name": "python",
   "nbconvert_exporter": "python",
   "pygments_lexer": "ipython3",
   "version": "3.13.5"
  }
 },
 "nbformat": 4,
 "nbformat_minor": 5
}
